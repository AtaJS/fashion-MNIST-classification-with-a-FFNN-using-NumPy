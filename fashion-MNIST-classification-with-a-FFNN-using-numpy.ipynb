{
  "cells": [
    {
      "cell_type": "markdown",
      "metadata": {
        "id": "iwLIAAnTnA5T"
      },
      "source": [
        "#  Fashion-MNIST Classification with a Feedforward NN using NumPy"
      ]
    },
    {
      "cell_type": "markdown",
      "metadata": {
        "id": "k4NrFFbxnA5U"
      },
      "source": [
        "## Project Outline\n",
        "#### In this project, you will explore:\n",
        "* Fundamentals of feedforward neural networks (NNs).\n",
        "* Constructing a simple NN from the ground up using NumPy to grasp the mechanics of forward and back propagation, as well as optimization.\n",
        "* Gradient validation through finite-difference approximation.\n",
        "* Mini-batch gradient descent with momentum for efficient training.\n",
        "* Regularization techniques and basic hyperparameter tuning strategies to enhance NN performance."
      ]
    },
    {
      "cell_type": "markdown",
      "metadata": {
        "id": "uMUSCjAWnA5U"
      },
      "source": [
        "#### Project Stages\n",
        "\n",
        "* **Stage 1: Library Imports, Data Loading, and Preprocessing**\n",
        "* **Stage 2: Neural Network Construction and Propagation**\n",
        "  * 2.1 Dataset Structure Analysis\n",
        "  * 2.2 Model Building and Forward Propagation\n",
        "    * Parameter Initialization\n",
        "    * Activation Function Definitions\n",
        "    * Forward Propagation Implementation\n",
        "  * 2.3 Loss Function and Backward Propagation\n",
        "    * Cross-Entropy Loss Implementation\n",
        "    * Backward Propagation Implementation\n",
        "    * Exploring Gradient Checking with Finite-Difference Approximation\n",
        "* **Stage 3: Network Training and Performance Evaluation**\n",
        "  * 3.1 Network Training Process\n",
        "  * 3.2 Model Performance Assessment\n",
        "\n",
        "* **Stage 4: Regularization and Hyperparameter Optimization**\n",
        "  * 4.1 Implementing Weight Decay and Backpropagation\n",
        "  * 4.2 Hyperparameter Tuning Exploration"
      ]
    },
    {
      "cell_type": "markdown",
      "metadata": {
        "id": "Zbp8fnB4nA5U"
      },
      "source": [
        "#### Environment\n",
        "Python 3, NumPy, matplotlib, sklearn\n",
        "\n",
        "#### Dataset\n",
        "* [**Fashion-MNIST**](https://github.com/zalandoresearch/fashion-mnist)\n",
        "Fashion-MNIST is a dataset comprising images of Zalando articles. It includes a training set of 60,000 samples and a test set of 10,000 samples. Each sample is a 28x28 grayscale image associated with a label from 10 classes. Fashion-MNIST is intended as a more challenging replacement for the original MNIST dataset, sharing the same image size and structure of training and testing splits, but offering a more complex classification task."
      ]
    },
    {
      "cell_type": "markdown",
      "metadata": {
        "id": "VuFE0X3jnA5V"
      },
      "source": [
        "## Stage 1: Importing Libraries, Loading and Preprocessing Data"
      ]
    },
    {
      "cell_type": "code",
      "execution_count": 1,
      "metadata": {
        "id": "vaTmxGnanA5V"
      },
      "outputs": [],
      "source": [
        "import numpy as np\n",
        "import matplotlib, time, copy, os, requests, zipfile, sys\n",
        "import matplotlib.pyplot as plt\n",
        "from sklearn.metrics import confusion_matrix, accuracy_score"
      ]
    },
    {
      "cell_type": "markdown",
      "metadata": {
        "id": "DP6tQG8mnA5V"
      },
      "source": [
        "### Downloading the Fashion-MNIST Dataset"
      ]
    },
    {
      "cell_type": "code",
      "execution_count": 2,
      "metadata": {
        "id": "TRs3Z4kTnA5V",
        "scrolled": true
      },
      "outputs": [
        {
          "name": "stdout",
          "output_type": "stream",
          "text": [
            "Defaulting to user installation because normal site-packages is not writeable\n",
            "Requirement already satisfied: onedrivedownloader in c:\\users\\satas\\appdata\\local\\packages\\pythonsoftwarefoundation.python.3.12_qbz5n2kfra8p0\\localcache\\local-packages\\python312\\site-packages (1.1.3)\n",
            "Requirement already satisfied: requests in c:\\users\\satas\\appdata\\local\\packages\\pythonsoftwarefoundation.python.3.12_qbz5n2kfra8p0\\localcache\\local-packages\\python312\\site-packages (from onedrivedownloader) (2.32.3)\n",
            "Requirement already satisfied: tqdm in c:\\users\\satas\\appdata\\local\\packages\\pythonsoftwarefoundation.python.3.12_qbz5n2kfra8p0\\localcache\\local-packages\\python312\\site-packages (from onedrivedownloader) (4.67.1)\n",
            "Requirement already satisfied: charset-normalizer<4,>=2 in c:\\users\\satas\\appdata\\local\\packages\\pythonsoftwarefoundation.python.3.12_qbz5n2kfra8p0\\localcache\\local-packages\\python312\\site-packages (from requests->onedrivedownloader) (3.4.1)\n",
            "Requirement already satisfied: idna<4,>=2.5 in c:\\users\\satas\\appdata\\local\\packages\\pythonsoftwarefoundation.python.3.12_qbz5n2kfra8p0\\localcache\\local-packages\\python312\\site-packages (from requests->onedrivedownloader) (3.10)\n",
            "Requirement already satisfied: urllib3<3,>=1.21.1 in c:\\users\\satas\\appdata\\local\\packages\\pythonsoftwarefoundation.python.3.12_qbz5n2kfra8p0\\localcache\\local-packages\\python312\\site-packages (from requests->onedrivedownloader) (2.3.0)\n",
            "Requirement already satisfied: certifi>=2017.4.17 in c:\\users\\satas\\appdata\\local\\packages\\pythonsoftwarefoundation.python.3.12_qbz5n2kfra8p0\\localcache\\local-packages\\python312\\site-packages (from requests->onedrivedownloader) (2024.12.14)\n",
            "Requirement already satisfied: colorama in c:\\users\\satas\\appdata\\local\\packages\\pythonsoftwarefoundation.python.3.12_qbz5n2kfra8p0\\localcache\\local-packages\\python312\\site-packages (from tqdm->onedrivedownloader) (0.4.6)\n"
          ]
        }
      ],
      "source": [
        "!pip install onedrivedownloader"
      ]
    },
    {
      "cell_type": "markdown",
      "metadata": {
        "id": "G_-X7NwuiJk9"
      },
      "source": [
        "Downloading the Fashion-MNIST dataset from the repository."
      ]
    },
    {
      "cell_type": "code",
      "execution_count": 3,
      "metadata": {
        "id": "MSH331irnA5W"
      },
      "outputs": [
        {
          "name": "stdout",
          "output_type": "stream",
          "text": [
            "Downloading dataset\n",
            "Unzipping file...\n"
          ]
        },
        {
          "name": "stderr",
          "output_type": "stream",
          "text": [
            "Extracting files: 100%|██████████| 4/4 [00:01<00:00,  3.67it/s]\n"
          ]
        }
      ],
      "source": [
        "from onedrivedownloader import download\n",
        "\n",
        "link = 'https://drive.google.com/file/d/1CIUZmgOFp_JF9_PYsc2vSj8PUlETYKXw/view?usp=sharing'\n",
        "\n",
        "if not os.path.exists('./data_hw2/fashion_mnist_npy'):\n",
        "    print('Downloading dataset')\n",
        "    download(link, filename=\"./fashion_mnist_npy.zip\", unzip=True, unzip_path='./data_hw2/fashion_mnist_npy')"
      ]
    },
    {
      "cell_type": "markdown",
      "metadata": {
        "id": "_R2fkZmVnA5W"
      },
      "source": [
        "### Defining Data Preprocessing Functions"
      ]
    },
    {
      "cell_type": "code",
      "execution_count": 4,
      "metadata": {
        "id": "geQsilhAnA5W"
      },
      "outputs": [],
      "source": [
        "def reshape_train_data(X):\n",
        "    ''' Input training data has shape (60000, 28, 28)\n",
        "        Input testing data has shape (10000, 28, 28)\n",
        "        where:\n",
        "        60000 is the numbers of input training samples\n",
        "        10000 is the numbers of input testing samples\n",
        "        similar to MNIST, resolution of each sample is 28 x 28\n",
        "    '''\n",
        "    samples, H, W = X.shape\n",
        "    return X.reshape(samples, H * W).T / 255\n",
        "\n",
        "def one_hot_vector(x, num_classes):\n",
        "    return np.eye(num_classes)[x].T"
      ]
    },
    {
      "cell_type": "markdown",
      "metadata": {
        "id": "kJLqVao3nA5W"
      },
      "source": [
        "### Preprocessing the Fashion-MNIST Dataset"
      ]
    },
    {
      "cell_type": "code",
      "execution_count": 5,
      "metadata": {
        "id": "0cx9y0D8nA5W"
      },
      "outputs": [
        {
          "data": {
            "image/png": "[encoded data removed]",
            "text/plain": [
              "<Figure size 1600x800 with 5 Axes>"
            ]
          },
          "metadata": {},
          "output_type": "display_data"
        },
        {
          "data": {
            "image/png": "[encoded data removed]",
            "text/plain": [
              "<Figure size 1600x800 with 5 Axes>"
            ]
          },
          "metadata": {},
          "output_type": "display_data"
        }
      ],
      "source": [
        "PATH = os.path.join('data_hw2', 'fashion_mnist_npy')\n",
        "\n",
        "label_names = ['T-shirt/top', 'Trouser', 'Pullover', 'Dress', 'Coat',\n",
        "               'Sandal', 'Shirt', 'Sneaker', 'Bag', 'Ankle boot']\n",
        "\n",
        "X_train = np.load(os.path.join(PATH, 'train_data.npy'))\n",
        "X_test = np.load(os.path.join(PATH, 'test_data.npy'))\n",
        "Y_train = np.load(os.path.join(PATH, 'train_labels.npy'))\n",
        "Y_test = np.load(os.path.join(PATH, 'test_labels.npy'))\n",
        "\n",
        "num_classes = len(label_names)\n",
        "num_trains, HEIGHT, WIDTH = X_train.shape\n",
        "\n",
        "X_train, X_test = reshape_train_data(X_train), reshape_train_data(X_test)\n",
        "\n",
        "Y_train, Y_test = one_hot_vector(Y_train, num_classes), one_hot_vector(Y_test, num_classes)\n",
        "\n",
        "fig_train, ax_train = plt.subplots(figsize=(16, 8), nrows=1, ncols=5)\n",
        "fig_train.suptitle(\"Random images from the TRAIN set\", y=0.73, fontsize=16, fontweight='bold')\n",
        "\n",
        "fig_test, ax_test = plt.subplots(figsize=(16, 8), nrows=1, ncols=5)\n",
        "fig_test.suptitle(\"Random images from the TEST set\", y=0.73, fontsize=16, fontweight='bold')\n",
        "\n",
        "np.random.seed(666)\n",
        "for idx in range(5):\n",
        "    i, j = np.random.randint(num_trains), np.random.randint(X_test.shape[0])\n",
        "\n",
        "    ax_train[idx].imshow(X_train[:,i].reshape(HEIGHT, WIDTH), cmap = matplotlib.cm.binary)\n",
        "    ax_train[idx].set_title(label_names[np.argmax(Y_train[:,i])] + \"\\n\" + str(Y_train[:,i]))\n",
        "    ax_train[idx].axis('off')\n",
        "\n",
        "    ax_test[idx].imshow(X_test[:,j].reshape(HEIGHT, WIDTH), cmap = matplotlib.cm.binary)\n",
        "    ax_test[idx].set_title(label_names[np.argmax(Y_test[:,j])] + \"\\n\" + str(Y_test[:,j]))\n",
        "    ax_test[idx].axis('off')"
      ]
    },
    {
      "cell_type": "markdown",
      "metadata": {
        "id": "H7VT4AC_nA5X"
      },
      "source": [
        "## Stage 2: Building the Neural Network and Implementing Propagation\n",
        "#### Deep Dive into Neural Network Mechanics.\n",
        "The loss function quantifies the discrepancy between predicted and actual values. It's crucial for training NNs as it guides the optimization process by calculating gradients. These gradients are then used in conjunction with optimization algorithms like gradient descent to update network parameters (weights and biases), iteratively refining the model.\n",
        "\n",
        "This process can be visualized as calculating the 'error' at the output layer using the loss function, and then propagating this error back through the network's layers. During backpropagation, the contribution of each parameter to the error is computed, allowing for parameter adjustments that minimize the loss."
      ]
    },
    {
      "cell_type": "markdown",
      "metadata": {
        "id": "AEf38W_GnA5X"
      },
      "source": [
        "![Figure1.png](http://yty.kapsi.fi/DLcourse/ass2/Figure1.png)"
      ]
    },
    {
      "cell_type": "markdown",
      "metadata": {
        "id": "Oi_2eaCXnA5X"
      },
      "source": [
        "<center> <strong> <font size=\"3\" color=\"red\"> Figure 1. Backpropagation Example </font> </strong> </center>\n",
        "\n",
        "Figure 1 illustrates a loss function $L = c \\times d$, where $c = a + b -5$ and $d = b^2 + b -1$. The derivatives on edges show partial derivatives. Chain rule helps calculate $\\frac{\\partial L}{\\partial a}$ and $\\frac{\\partial L}{\\partial b}$: \n",
        "\n",
        "\\begin{align}\n",
        "\\frac{\\partial L}{\\partial a} = \\frac{\\partial L}{\\partial c} \\cdot \\frac{\\partial c}{\\partial a}\n",
        "\\end{align}\n",
        "\n",
        "and <br>\n",
        "\n",
        "\\begin{align}\n",
        "\\frac{\\partial L}{\\partial b} = \\frac{\\partial L}{\\partial c} \\cdot \\frac{\\partial c}{\\partial b} + \\frac{\\partial L}{\\partial d} \\cdot \\frac{\\partial d}{\\partial b}\n",
        "\\end{align}\n",
        "\n",
        "This highlights how variable $a$ impacts $L$ via $c$, a principle consistent in complex networks with numerous layers and intricate losses, as long as backpropagation guides weight updates."
      ]
    },
    {
      "cell_type": "markdown",
      "metadata": {
        "id": "jI8hUvewnA5Y"
      },
      "source": [
        "**Hands-on Neural Network Implementation.**"
      ]
    },
    {
      "cell_type": "markdown",
      "metadata": {
        "id": "84J6PWbLnA5Y"
      },
      "source": [
        "### 2.1 Exploring Dataset Structure"
      ]
    },
    {
      "cell_type": "markdown",
      "metadata": {
        "id": "dhsMUBTfnA5Y"
      },
      "source": [
        "Understanding input data structure is essential. The following code block displays the dimensions of training and test sets."
      ]
    },
    {
      "cell_type": "code",
      "execution_count": 6,
      "metadata": {
        "id": "fS0fzooanA5Y"
      },
      "outputs": [
        {
          "name": "stdout",
          "output_type": "stream",
          "text": [
            "Shape of X_train: (784, 60000)\n",
            "Shape of Y_train: (10, 60000)\n",
            "Shape of X_test: (784, 10000)\n",
            "Shape of Y_test: (10, 10000)\n"
          ]
        }
      ],
      "source": [
        "print('Shape of X_train:', X_train.shape)\n",
        "print('Shape of Y_train:', Y_train.shape)\n",
        "print('Shape of X_test:', X_test.shape)\n",
        "print('Shape of Y_test:', Y_test.shape)"
      ]
    },
    {
      "cell_type": "markdown",
      "metadata": {
        "id": "ZeHMMFeknA5Z"
      },
      "source": [
        "### 2.2 Model Construction and Forward Propagation\n",
        "\n",
        "**Figure 2** illustrates the architecture of our neural network.\n"
      ]
    },
    {
      "cell_type": "markdown",
      "metadata": {
        "id": "gd5eBJygnA5Z"
      },
      "source": [
        "![Figure2.png](http://yty.kapsi.fi/DLcourse/ass2/Figure2.png)"
      ]
    },
    {
      "cell_type": "markdown",
      "metadata": {
        "id": "OobtThTGnA5Z"
      },
      "source": [
        "<center> <strong> <font size=\"4\" color=\"red\"> Figure 2. Simple Feed-Forward Neural Network Architecture </font> </strong> </center>"
      ]
    },
    {
      "cell_type": "markdown",
      "metadata": {
        "id": "om-Ux6FjnA5a"
      },
      "source": [
        "### Parameter Initialization"
      ]
    },
    {
      "cell_type": "markdown",
      "metadata": {
        "id": "i7_ByHU1nA5a"
      },
      "source": [
        "Our network (Figure 2) has two hidden layers with 10 and 6 neurons respectively, plus an output layer. Biases are excluded for simplicity. Hidden layer neuron count is flexible, but the output layer must have 10 neurons for classifying 10 Fashion-MNIST classes. \n",
        "\n",
        "The following sections detail the construction based on **Figure 2**."
      ]
    },
    {
      "cell_type": "markdown",
      "metadata": {
        "id": "YFCPdo3gtEk2"
      },
      "source": [
        "Defining default neural network parameters."
      ]
    },
    {
      "cell_type": "code",
      "execution_count": 7,
      "metadata": {
        "id": "QB5A5fponA5a"
      },
      "outputs": [],
      "source": [
        "num_inputs = X_train.shape[0]\n",
        "\n",
        "num_hidden_1 = 10\n",
        "num_hidden_2 = 6\n",
        "\n",
        "num_outputs = num_classes"
      ]
    },
    {
      "cell_type": "markdown",
      "metadata": {
        "id": "YXv1mZa4nA5a"
      },
      "source": [
        "Randomly initializing network parameters to shape **(out_dim, in_dim)**, representing layer output and input dimensions."
      ]
    },
    {
      "cell_type": "code",
      "execution_count": 8,
      "metadata": {
        "id": "M8dARoJQnA5a"
      },
      "outputs": [],
      "source": [
        "def init_parameters(num_inputs, num_hidden_1, num_hidden_2, num_outputs):\n",
        "    \"\"\"Initializes model parameters and momentum learning velocity.\n",
        "\n",
        "    Returns:\n",
        "        parameters (tuple): Model parameters: W1, W2, W3\n",
        "        velocity (tuple): Momentum learning velocity: V_dW1, V_dW2, V_dW3\n",
        "    \"\"\"\n",
        "\n",
        "    W1 = np.random.randn(num_hidden_1, num_inputs)\n",
        "    W2 = np.random.randn(num_hidden_2, num_hidden_1)\n",
        "    W3 = np.random.randn(num_outputs, num_hidden_2)\n",
        "\n",
        "    parameters = W1, W2, W3\n",
        "\n",
        "    V_dW1 = np.zeros(W1.shape)\n",
        "    V_dW2 = np.zeros(W2.shape)\n",
        "    V_dW3 = np.zeros(W3.shape)\n",
        "\n",
        "    velocity = V_dW1, V_dW2, V_dW3\n",
        "\n",
        "    return parameters, velocity"
      ]
    },
    {
      "cell_type": "markdown",
      "metadata": {
        "id": "a4x2jEv1tvLI"
      },
      "source": [
        "Output shape verification."
      ]
    },
    {
      "cell_type": "code",
      "execution_count": 9,
      "metadata": {
        "id": "ZGMypKzjnA5a"
      },
      "outputs": [
        {
          "name": "stdout",
          "output_type": "stream",
          "text": [
            "Shape of W1: (10, 784)\n",
            "Shape of W2: (6, 10)\n",
            "Shape of W3: (10, 6)\n"
          ]
        }
      ],
      "source": [
        "parameters, velocity = init_parameters(num_inputs, num_hidden_1, num_hidden_2, num_outputs)\n",
        "\n",
        "W1, W2, W3 = parameters\n",
        "\n",
        "print('Shape of W1:', W1.shape)\n",
        "print('Shape of W2:', W2.shape)\n",
        "print('Shape of W3:', W3.shape)"
      ]
    },
    {
      "cell_type": "markdown",
      "metadata": {
        "id": "8zDOeFQ6nA5a"
      },
      "source": [
        "Shape Verification: W1: (10, 784), W2: (6, 10), W3: (10, 6)."
      ]
    },
    {
      "cell_type": "markdown",
      "metadata": {
        "id": "sGfHyDd6nA5a"
      },
      "source": [
        "### Defining Activation Functions"
      ]
    },
    {
      "cell_type": "markdown",
      "metadata": {
        "id": "IwuFIB-unA5a"
      },
      "source": [
        "Activation functions introduce non-linearity to the network. We'll use Tanh, ReLU, and Softmax:\n",
        "\n",
        "The Tanh (hyperbolic tangent) activation:\n",
        "\n",
        "$$\n",
        "{\\rm tanh}(x) = \\frac{e^{x} - e^{-x}}{e^{x} + e^{-x}}\n",
        "\\tag{1}\n",
        "$$\n",
        "\n",
        "The ReLU (Rectified Linear Unit) activation:\n",
        "\n",
        "$$\n",
        "{\\rm ReLU}(x) = \\text{max}(x, 0) =\n",
        "\\begin{cases}\n",
        "x, & \\text{if}\\ x > 0 \\\\\n",
        "0, & \\text{otherwise}\n",
        "\\end{cases}\n",
        "\\tag{2}\n",
        "$$\n",
        "\n",
        "The Softmax activation (for multi-class probability distribution):\n",
        "\n",
        "$$\n",
        "{\\rm softmax}(x)_i = \\frac{e^{x_i}}{\\sum_{j=1}^{N}e^{x_j}}\\ \\text{for}\\ i\\ \\text{in}\\ \\left\\{1,...,N \\right\\}\n",
        "\\tag{3}\n",
        "$$\n",
        "\n",
        "where $N$ is the number of classes."
      ]
    },
    {
      "cell_type": "code",
      "execution_count": 10,
      "metadata": {
        "id": "d73D7SSLnA5a"
      },
      "outputs": [],
      "source": [
        "def tanh(X):\n",
        "    return (np.exp(X) - np.exp(-X)) / (np.exp(X) + np.exp(-X))\n",
        "\n",
        "def relu(X):\n",
        "    return np.maximum(0, X)\n",
        "\n",
        "def softmax(X):\n",
        "    exp_X = np.exp(X)\n",
        "    return exp_X / np.sum(exp_X, axis=0, keepdims=True)"
      ]
    },
    {
      "cell_type": "markdown",
      "metadata": {
        "id": "qncy_4Xl0D4h"
      },
      "source": [
        "Verifying activation function outputs."
      ]
    },
    {
      "cell_type": "code",
      "execution_count": 11,
      "metadata": {
        "id": "OQkU5pKdnA5a"
      },
      "outputs": [
        {
          "name": "stdout",
          "output_type": "stream",
          "text": [
            "X\n",
            "[[-1]\n",
            " [ 0]\n",
            " [ 2]] \n",
            "\n",
            "tanh(x)\n",
            "[[-0.76159416]\n",
            " [ 0.        ]\n",
            " [ 0.96402758]] \n",
            "\n",
            "relu(x)\n",
            "[[0]\n",
            " [0]\n",
            " [2]] \n",
            "\n",
            "softmax(x)\n",
            "[[0.04201007]\n",
            " [0.1141952 ]\n",
            " [0.84379473]]\n"
          ]
        }
      ],
      "source": [
        "X = np.array([-1, 0, 2]).reshape(-1, 1)\n",
        "\n",
        "print('X')\n",
        "print(X, '\\n')\n",
        "\n",
        "print('tanh(x)')\n",
        "print(tanh(X), '\\n')\n",
        "\n",
        "print('relu(x)')\n",
        "print(relu(X), '\\n')\n",
        "\n",
        "print('softmax(x)')\n",
        "print(softmax(X))"
      ]
    },
    {
      "cell_type": "markdown",
      "metadata": {
        "id": "vcfUSVklnA5b"
      },
      "source": [
        "Activation function output example:\n",
        "tanh(x):\n",
        "[[-0.76159416], [ 0.], [ 0.96402758]]\n",
        "\n",
        "relu(x):\n",
        "[[0], [0], [2]]\n",
        "\n",
        "softmax(x):\n",
        "[[0.04201007], [0.1141952 ], [0.84379473]]"
      ]
    },
    {
      "cell_type": "markdown",
      "metadata": {
        "id": "oMLnqVhUnA5b"
      },
      "source": [
        "Visualizing Tanh and ReLU activation functions."
      ]
    },
    {
      "cell_type": "code",
      "execution_count": 12,
      "metadata": {
        "id": "FlrrhioanA5b"
      },
      "outputs": [
        {
          "data": {
            "text/plain": [
              "[<matplotlib.lines.Line2D at 0x27baf9f0560>]"
            ]
          },
          "execution_count": 12,
          "metadata": {},
          "output_type": "execute_result"
        },
        {
          "data": {
            "image/png": "[encoded data removed]",
            "text/plain": [
              "<Figure size 700x300 with 2 Axes>"
            ]
          },
          "metadata": {},
          "output_type": "display_data"
        }
      ],
      "source": [
        "fig, ax = plt.subplots(1, 2, figsize=(7, 3))\n",
        "\n",
        "x = np.linspace(-5, 5, 100).reshape(-1, 1)\n",
        "\n",
        "ax[0].set_title('Tanh')\n",
        "ax[0].plot(x, tanh(x))\n",
        "\n",
        "ax[1].set_title('ReLU')\n",
        "ax[1].plot(x, relu(x))"
      ]
    },
    {
      "cell_type": "markdown",
      "metadata": {
        "id": "HMSws0vCnA5b"
      },
      "source": [
        "### Implementing Forward Propagation"
      ]
    },
    {
      "cell_type": "markdown",
      "metadata": {
        "id": "dmm6dxXznA5b"
      },
      "source": [
        "Forward propagation in our model involves three steps based on **Figure 2**:\n",
        "\n",
        "1. **First Hidden Layer Activation** ($A_1$) with ReLU:\n",
        "\n",
        "$$\n",
        "\\begin{align}\n",
        "Z_1 &= W_1 X \\tag{4} \\\\\n",
        "A_1 &= {\\rm ReLU}(Z_1) \\tag{5}\n",
        "\\end{align}\n",
        "$$\n",
        "\n",
        "2. **Second Hidden Layer Activation** ($A_2$) with Tanh:\n",
        "\n",
        "$$\n",
        "\\begin{align}\n",
        "Z_2 &= W_2 A_1 \\tag{6} \\\\\n",
        "A_2 &= {\\rm tanh}(Z_2) \\tag{7}\n",
        "\\end{align}\n",
        "$$\n",
        "\n",
        "3. **Output Layer Activation** ($A_3$) with Softmax:\n",
        "\n",
        "$$\n",
        "\\begin{align}\n",
        "Z_3 &= W_3 A_2 \\tag{8} \\\\\n",
        "A_3 &= {\\rm softmax}(Z_3) \\tag{9}\n",
        "\\end{align}\n",
        "$$\n",
        "\n",
        "$A_3$ provides class probabilities for classification."
      ]
    },
    {
      "cell_type": "markdown",
      "metadata": {
        "id": "W7Wk-7IQ9Vxl"
      },
      "source": [
        "Function for implementing forward propagation."
      ]
    },
    {
      "cell_type": "code",
      "execution_count": 13,
      "metadata": {
        "id": "Y50g6_qHnA5b"
      },
      "outputs": [],
      "source": [
        "def forward_propagation(X, parameters):\n",
        "    \"\"\"Forward propagation method.\n",
        "    Args:\n",
        "        X (np.array): Input data\n",
        "        parameters (tuple): Model parameters: W1, W2, W3\n",
        "\n",
        "    Returns:\n",
        "        outputs (tuple): Cached forward propagation outputs: Z1, A1, Z2, A2, Z3, A3\n",
        "    \"\"\"\n",
        "\n",
        "    W1, W2, W3 = parameters\n",
        "\n",
        "    Z1 = np.matmul(W1, X)\n",
        "    A1 = relu(Z1)\n",
        "    Z2 = np.matmul(W2, A1)\n",
        "    A2 = tanh(Z2)\n",
        "    Z3 = np.matmul(W3, A2)\n",
        "    A3 = softmax(Z3)\n",
        "\n",
        "    outputs = Z1, A1, Z2, A2, Z3, A3\n",
        "    return outputs"
      ]
    },
    {
      "cell_type": "markdown",
      "metadata": {
        "id": "8wqKthTr8Cva"
      },
      "source": [
        "Verifying forward propagation output shapes and values."
      ]
    },
    {
      "cell_type": "code",
      "execution_count": 14,
      "metadata": {
        "id": "SZc6P1w9nA5b"
      },
      "outputs": [
        {
          "name": "stdout",
          "output_type": "stream",
          "text": [
            "Shape of X: (784, 2)\n",
            "Shape of Z1: (10, 2)\n",
            "Shape of A1: (10, 2)\n",
            "Shape of Z2: (6, 2)\n",
            "Shape of A2: (6, 2)\n",
            "Shape of Z3: (10, 2)\n",
            "Shape of A3: (10, 2)\n",
            "\n",
            "Example results of A3:\n",
            "[[1.38202775e-03 4.52205629e-04]\n",
            " [6.15985645e-05 3.82649723e-04]\n",
            " [1.48498984e-03 2.77106027e-03]\n",
            " [3.63232325e-02 2.61529866e-04]\n",
            " [4.89499804e-01 3.33523685e-03]\n",
            " [5.90058174e-02 3.56606147e-03]\n",
            " [3.93312146e-03 7.51254172e-03]\n",
            " [1.09048918e-04 1.57395365e-04]\n",
            " [4.05891483e-01 5.70850621e-03]\n",
            " [2.30887617e-03 9.75852813e-01]]\n"
          ]
        }
      ],
      "source": [
        "np.random.seed(1)\n",
        "X = np.random.randn(num_inputs, 2)\n",
        "\n",
        "parameters, _ = init_parameters(num_inputs, num_hidden_1, num_hidden_2, num_outputs)\n",
        "Z1, A1, Z2, A2, Z3, A3 = forward_propagation(X, parameters)\n",
        "\n",
        "print('Shape of X:', X.shape)\n",
        "print('Shape of Z1:', Z1.shape)\n",
        "print('Shape of A1:', A1.shape)\n",
        "print('Shape of Z2:', Z2.shape)\n",
        "print('Shape of A2:', A2.shape)\n",
        "print('Shape of Z3:', Z3.shape)\n",
        "print('Shape of A3:', A3.shape)\n",
        "\n",
        "print('\\nExample results of A3:')\n",
        "print(A3)"
      ]
    },
    {
      "cell_type": "markdown",
      "metadata": {
        "id": "83AQ0e4TnA5b"
      },
      "source": [
        "Output Shape and Value Examples:\n",
        "X: (784, 2), Z1: (10, 2), A1: (10, 2), Z2: (6, 2), A2: (6, 2), Z3: (10, 2), A3: (10, 2).\n",
        "\n",
        "A3 Example:\n",
        "[[1.38202775e-03, 4.52205629e-04],\n",
        " [6.15985645e-05, 3.82649723e-04],\n",
        " [1.48498984e-03, 2.77106027e-03],\n",
        " [3.63232325e-02, 2.61529866e-04],\n",
        " [4.89499804e-01, 3.33523685e-03],\n",
        " [5.90058174e-02, 3.56606147e-03],\n",
        " [3.93312146e-03, 7.51254172e-03],\n",
        " [1.09048918e-04, 1.57395365e-04],\n",
        " [4.05891483e-01, 5.70850621e-03],\n",
        " [2.30887617e-03, 9.75852813e-01]]"
      ]
    },
    {
      "cell_type": "markdown",
      "metadata": {
        "id": "L4rwAwTenA5c"
      },
      "source": [
        "### 2.3 Loss Function and Backward Propagation"
      ]
    },
    {
      "cell_type": "markdown",
      "metadata": {
        "id": "mwFcp6IVnA5c"
      },
      "source": [
        "### Cross-Entropy Loss Implementation"
      ]
    },
    {
      "cell_type": "markdown",
      "metadata": {
        "id": "wmiqbSXlnA5c"
      },
      "source": [
        "Cross-entropy measures the difference between probability distributions, here between predicted and true labels. Formula:\n",
        "\n",
        "$$\n",
        "L = {\\rm cross\\_entropy}(Y, A_3) = - \\frac{1}{M} \\sum_{k=0}^{M} \\sum_{i=0}^{N} Y_i^{k} log({A_3}_i^{k}) \\tag{10}\n",
        "$$\n",
        "Y: true labels, $A_3$: predictions, $N$: classes, $M$: batch size."
      ]
    },
    {
      "cell_type": "markdown",
      "metadata": {
        "id": "3JgGilKw9LrD"
      },
      "source": [
        "Implementing the cross-entropy loss function."
      ]
    },
    {
      "cell_type": "code",
      "execution_count": 15,
      "metadata": {
        "id": "UL5aXtlfnA5c"
      },
      "outputs": [],
      "source": [
        "def cross_entropy_loss(Y, Y_pred):\n",
        "    m = Y.shape[1]\n",
        "    return -np.sum(np.multiply(Y, np.log(Y_pred))) / m"
      ]
    },
    {
      "cell_type": "markdown",
      "metadata": {
        "id": "fVNYP4H89tMq"
      },
      "source": [
        "Verifying cross-entropy loss output."
      ]
    },
    {
      "cell_type": "code",
      "execution_count": 16,
      "metadata": {
        "id": "nRyluuI3nA5c"
      },
      "outputs": [
        {
          "name": "stdout",
          "output_type": "stream",
          "text": [
            "Shape of Y: (10, 2)\n",
            "Shape of A3: (10, 2)\n",
            "Loss: 1.4200061694735258\n"
          ]
        }
      ],
      "source": [
        "np.random.seed(1)\n",
        "Y = one_hot_vector(np.random.randint(1, num_classes, 2), num_classes)\n",
        "A3 = softmax(np.random.randn(num_classes, 2))\n",
        "\n",
        "L = cross_entropy_loss(Y, A3)\n",
        "print('Shape of Y:', Y.shape)\n",
        "print('Shape of A3:', A3.shape)\n",
        "print('Loss:', L)"
      ]
    },
    {
      "cell_type": "markdown",
      "metadata": {
        "id": "aDG25jAXnA5c"
      },
      "source": [
        "Loss output example:\n",
        "Y: (10, 2), A3: (10, 2), Loss: 1.4200061694735258."
      ]
    },
    {
      "cell_type": "markdown",
      "metadata": {
        "id": "r50JbT3TnA5c"
      },
      "source": [
        "### Backward Propagation Implementation"
      ]
    },
    {
      "cell_type": "markdown",
      "metadata": {
        "id": "uoXdCN1xnA5c"
      },
      "source": [
        "Backward propagation computes gradients for parameter updates to minimize the loss. It uses chain rule to find derivatives with respect to weights."
      ]
    },
    {
      "cell_type": "markdown",
      "metadata": {
        "id": "3-pmtJGInA5c"
      },
      "source": [
        "We aim to calculate $\\frac{\\partial L}{\\partial W_1}$, $\\frac{\\partial L}{\\partial W_2}$ and $\\frac{\\partial L}{\\partial W_3}$:\n",
        "\n",
        "$$\n",
        "\\frac{\\partial L}{\\partial W_3} = \\frac{\\partial L}{\\partial A_3} \\cdot \\frac{\\partial A_3}{\\partial Z_3} \\cdot \\frac{\\partial Z_3}{\\partial W_3} \\tag{11}\n",
        "$$\n",
        "\n",
        ",\n",
        "\n",
        "$$\n",
        "\\frac{\\partial L}{\\partial W_2} = \\frac{\\partial L}{\\partial A_3} \\cdot \\frac{\\partial A_3}{\\partial Z_3} \\cdot \\frac{\\partial Z_3}{\\partial A_2} \\cdot \\frac{\\partial A_2}{\\partial Z_2} \\cdot \\frac{\\partial Z_2}{\\partial W_2} \\tag{12}\n",
        "$$\n",
        "\n",
        "and\n",
        "\n",
        "$$\n",
        "\\frac{\\partial L}{\\partial W_1} = \\frac{\\partial L}{\\partial A_3} \\cdot \\frac{\\partial A_3}{\\partial Z_3} \\cdot \\frac{\\partial Z_3}{\\partial A_2} \\cdot \\frac{\\partial A_2}{\\partial Z_2} \\cdot \\frac{\\partial Z_2} {\\partial A_1} \\cdot \\frac{\\partial A_1}{\\partial Z_1} \\cdot \\frac{\\partial Z_1}{\\partial W_1} \\tag{13}\n",
        "$$"
      ]
    },
    {
      "cell_type": "markdown",
      "metadata": {
        "id": "Tvsxg6k4CW0i"
      },
      "source": [
        "Derivatives in matrix form are provided below for implementation."
      ]
    },
    {
      "cell_type": "markdown",
      "metadata": {
        "id": "lbJLNC67nA5c"
      },
      "source": [
        "From **Eq. 11**: Derivatives w.r.t $Z_3$ and $W_3$:\n",
        "\n",
        "Derivative of $L$ w.r.t $Z_3$:\n",
        "\n",
        "$$\n",
        "dZ_3 = \\frac{\\partial L}{\\partial Z_3} = \\frac{\\partial L}{\\partial A_3} \\cdot \\frac{\\partial A_3}{\\partial Z_3} = A_3 - Y \\tag{14}\n",
        "$$\n",
        "\n",
        "Derivative of $L$ w.r.t $W_3$:\n",
        "\n",
        "$$\n",
        "d W_3 = \\frac{\\partial L}{\\partial W_3} = \\frac{\\partial L}{\\partial Z_3} \\cdot \\frac{\\partial Z_3}{\\partial W_3} = \\frac{1}{m} d Z_3 \\cdot A_2^T \\tag{15}\n",
        "$$\n",
        "\n",
        "where $m$ is the mini-batch size."
      ]
    },
    {
      "cell_type": "markdown",
      "metadata": {
        "id": "gDk-KTr8nA5c"
      },
      "source": [
        "From **Eq. 12**: Derivatives w.r.t $A_2$, $Z_2$ and $W_2$:\n",
        "\n",
        "Derivative of $L$ w.r.t $A_2$:\n",
        "$$\n",
        "d A_2 = \\frac{\\partial L}{\\partial A_2} = \\frac{\\partial L}{\\partial Z_3} \\cdot \\frac{\\partial Z_3}{\\partial A_2} = W_3^T \\cdot (A_3 - Y) \\tag{16}\n",
        "$$\n",
        "\n",
        "Derivative of $L$ w.r.t $Z_2$ (using tanh derivative):\n",
        "\n",
        "$$\n",
        "\\frac{d}{d x}tanh(x)=1-tanh^2(x) \\:\\:\\: \\longrightarrow \\:\\:\\:\\frac{\\partial A_2}{\\partial Z_2} = 1 - (A_2)^2 \\tag{17}\n",
        "$$\n",
        "\n",
        "$$\n",
        "d Z_2 = \\frac{\\partial L}{\\partial Z_2} = \\frac{\\partial L}{\\partial A_2} \\cdot \\frac{\\partial A_2}{\\partial Z_2} = d A_2 * (1 - (A_2)^2 ) \\tag{18}\n",
        "$$\n",
        "\n",
        "Derivative of $L$ w.r.t $W_2$:\n",
        "$$\n",
        "d W_2 = \\frac{\\partial L}{\\partial W_2} = \\frac{\\partial L}{\\partial Z_2} \\cdot \\frac{\\partial Z_2}{\\partial W_2} = \\frac{1}{m} d Z_2 \\cdot A_1^T \\tag{19}\n",
        "$$\n",
        "\n"
      ]
    },
    {
      "cell_type": "markdown",
      "metadata": {
        "id": "Pg9nnpJKnA5c"
      },
      "source": [
        "From **Eq. 13**: Derivatives w.r.t $A_1$, $Z_1$ and $W_1$:\n",
        "\n",
        "Derivative of $L$ w.r.t $A_1$:\n",
        "$$\n",
        "d A_1 = \\frac{\\partial L}{\\partial A_1} = \\frac{\\partial L}{\\partial Z_2} \\cdot \\frac{\\partial Z_2}{\\partial A_1} = W_2^T \\cdot d Z_2\\tag{20}\n",
        "$$\n",
        "\n",
        "Derivative of $L$ w.r.t $Z_1$ (using ReLU derivative):\n",
        "$$\n",
        "\\frac{\\partial A_1}{\\partial Z_1} = {\\rm int}(A1 > 0) \\tag{21}\n",
        "$$\n",
        "\n",
        "$$\n",
        "d Z_1 = \\frac{\\partial L}{\\partial Z_1} = \\frac{\\partial L}{\\partial A_1} \\cdot \\frac{\\partial A_1}{\\partial Z_1} = d A_1 * {\\rm int}(A1 > 0) \\tag{22}\n",
        "$$\n",
        "\n",
        "Derivative of $L$ w.r.t $W_1$:\n",
        "$$\n",
        "d W_1 = \\frac{\\partial L}{\\partial W_1} = \\frac{\\partial L}{\\partial Z_1} \\cdot \\frac{\\partial Z_1}{\\partial W_1} = \\frac{1}{m} d Z_1 \\cdot X^T \\tag{23}\n",
        "$$\n",
        "\n"
      ]
    },
    {
      "cell_type": "markdown",
      "metadata": {
        "id": "fvx3zKgnnA5c"
      },
      "source": [
        "**Implementation Notes:**\n",
        "\n",
        "- Matrix multiplication: `np.matmul(A, B)`.\n",
        "- Element-wise product (Hadamard product): `np.multiply(A, B)` or `A * B`.\n",
        "- Transpose: `A.T`.\n",
        "- Boolean to integer conversion: `A.astype(int)`.\n",
        "- $m$: mini-batch size."
      ]
    },
    {
      "cell_type": "code",
      "execution_count": 17,
      "metadata": {
        "id": "KWllDO-YnA5d"
      },
      "outputs": [],
      "source": [
        "def backward_propagation(X, Y, parameters, outputs):\n",
        "    \"\"\"Backward propagation method.\n",
        "    Args:\n",
        "        X (np.array): Input data\n",
        "        Y (np.array): True labels\n",
        "        parameters (tuple): Model parameters: W1, W2, W3\n",
        "        outputs (tuple): Cached forward propagation outputs: Z1, A1, Z2, A2, Z3, A3\n",
        "\n",
        "    Returns:\n",
        "        tuple: Computed gradients: dW1, dW2, dW3\n",
        "    \"\"\"\n",
        "\n",
        "    m = X.shape[1]\n",
        "\n",
        "    W1, W2, W3 = parameters\n",
        "    Z1, A1, Z2, A2, Z3, A3 = outputs\n",
        "\n",
        "    dZ3 = A3 - Y\n",
        "    dW3 = (1 / m) * np.matmul(dZ3, A2.T)\n",
        "\n",
        "    dA2 = np.matmul(W3.T, dZ3)\n",
        "    dZ2 = dA2 * (1-A2**2)\n",
        "    dW2 = (1 / m) * np.matmul(dZ2, A1.T)\n",
        "\n",
        "    dA1 = np.matmul(W2.T, dZ2)\n",
        "    dZ1 = dA1 * (A1 > 0).astype(int)\n",
        "    dW1 = (1 / m) * np.matmul(dZ1, X.T)\n",
        "\n",
        "    return dW1, dW2, dW3"
      ]
    },
    {
      "cell_type": "markdown",
      "metadata": {
        "id": "1TMaO9PDMked"
      },
      "source": [
        "Verifying backward propagation output shapes and values."
      ]
    },
    {
      "cell_type": "code",
      "execution_count": 18,
      "metadata": {
        "id": "eWPrGI_-nA5d"
      },
      "outputs": [
        {
          "name": "stdout",
          "output_type": "stream",
          "text": [
            "Shape of dW3: (10, 6)\n",
            "Shape of dW2: (6, 10)\n",
            "Shape of dW1: (10, 784)\n",
            "\n",
            "Example results in dW3:\n",
            "[4.9942051  4.80999429 4.51023899 4.99772104 4.93469564 4.99419688\n",
            " 4.81378453 4.98266546 4.99669364 4.96580443]\n",
            "\n",
            "Example results in dW2:\n",
            "[ 0.00000000e+00  0.00000000e+00 -1.25890118e-12  0.00000000e+00\n",
            " -1.62841039e-11  0.00000000e+00]\n",
            "\n",
            "Example results in dW1:\n",
            "[-1.45284316e-12  0.00000000e+00  4.73647801e-13 -2.40991086e-10\n",
            " -4.70147641e-12  0.00000000e+00  2.25983992e-10  0.00000000e+00\n",
            "  7.74600535e-12  6.12156451e-11]\n"
          ]
        }
      ],
      "source": [
        "np.random.seed(1)\n",
        "X = np.random.randn(num_inputs, 2)\n",
        "Y = np.random.randint(1, num_classes, (2, ))\n",
        "\n",
        "parameters, _ = init_parameters(num_inputs, num_hidden_1, num_hidden_2, num_outputs)\n",
        "outputs = forward_propagation(X, parameters)\n",
        "dW1, dW2, dW3 = backward_propagation(X, Y, parameters, outputs)\n",
        "\n",
        "print('Shape of dW3:', dW3.shape)\n",
        "print('Shape of dW2:', dW2.shape)\n",
        "print('Shape of dW1:', dW1.shape)\n",
        "\n",
        "print('\\nExample results in dW3:')\n",
        "print(dW3[:, 0])\n",
        "\n",
        "print('\\nExample results in dW2:')\n",
        "print(dW2[:, 0])\n",
        "\n",
        "print('\\nExample results in dW1:')\n",
        "print(dW1[:, 0])"
      ]
    },
    {
      "cell_type": "markdown",
      "metadata": {
        "id": "B_LhDjFPnA5d"
      },
      "source": [
        "Output Shape and Value Examples:\n",
        "dW3: (10, 6), dW2: (6, 10), dW1: (10, 784).\n",
        "\n",
        "dW3 Example:\n",
        "[4.9942051, 4.80999429, 4.51023899, 4.99772104, 4.93469564, 4.99419688,\n",
        " 4.81378453, 4.98266546, 4.99669364, 4.96580443]\n",
        "\n",
        "dW2 Example:\n",
        "[0.0, 0.0, -1.25890118e-12, 0.0, -1.62841039e-11, 0.0]\n",
        "\n",
        "dW1 Example:\n",
        "[-1.45284316e-12, 0.0, 4.73647801e-13, -2.40991086e-10, -4.70147641e-12, 0.0,\n",
        " 2.25983992e-10, 0.0, 7.74600535e-12, 6.12156451e-11]"
      ]
    },
    {
      "cell_type": "markdown",
      "metadata": {
        "id": "WAKVR8E7nA5d"
      },
      "source": [
        "### Exploring Gradient Checking with Finite-Difference Approximation\n",
        "\n",
        "Gradient calculation correctness is crucial in neural network training. Incorrect gradients can lead to unusual model behavior and are challenging to debug. Gradient checking helps verify gradient accuracy using finite-difference approximation (FDA).\n",
        "\n",
        "FDA approximates derivative using the formula:\n",
        "\\begin{align}\n",
        "\\Delta_{num\\_grad} f = \\frac{f(x + \\epsilon) - f(x - \\epsilon)}{2 * \\epsilon}  \\tag{26}\n",
        "\\end{align}\n",
        "where $\\epsilon$ is a small value (e.g., $1e-{04}$). By comparing numerical gradients from FDA with analytical gradients (derivatives), we can ensure backpropagation implementation accuracy."
      ]
    },
    {
      "cell_type": "markdown",
      "metadata": {
        "id": "1VoJFRkCnA5d"
      },
      "source": [
        "## Stage 3: Training and Evaluating the Neural Network"
      ]
    },
    {
      "cell_type": "markdown",
      "metadata": {
        "id": "-SSOno-onA5d"
      },
      "source": [
        "### 3.1 Network Training Process\n",
        "\n",
        "We'll use mini-batch gradient descent with momentum for training:\n",
        "\n",
        "Velocity update:\n",
        "$$\n",
        "v_{dW} = \\beta v_{dW} + (1 - \\beta) dW \\tag{28}\n",
        "$$\n",
        "\n",
        "Weight update:\n",
        "$$\n",
        "W = W - \\alpha v_{dW} \\tag{29}\n",
        "$$\n",
        "$\\alpha$: learning rate, $\\beta$: momentum coefficient."
      ]
    },
    {
      "cell_type": "markdown",
      "metadata": {
        "id": "V8KkLvNoOIVc"
      },
      "source": [
        "Training step function implementation (forward propagation to parameter update)."
      ]
    },
    {
      "cell_type": "code",
      "execution_count": 19,
      "metadata": {
        "id": "uHjawCNWnA5d"
      },
      "outputs": [],
      "source": [
        "def training_step(X, Y, parameters, velocity, learning_rate, beta, weight_decay_lambda=0.):\n",
        "    \"\"\"Single training step method.\n",
        "    Args:\n",
        "        X (np.array): Training data\n",
        "        Y (np.array): True labels\n",
        "        parameters (tuple): Model parameters: W1, W2, W3\n",
        "        velocity (tuple): Momentum velocity: V_dW1, V_dW2, V_dW3\n",
        "        learning_rate (float): Learning rate\n",
        "        beta (float): Momentum coefficient\n",
        "        weight_decay_lambda (float): Weight decay coefficient (regularization)\n",
        "\n",
        "    Returns:\n",
        "        tuple: Loss, updated parameters, updated velocity\n",
        "    \"\"\"\n",
        "\n",
        "    W1, W2, W3 = parameters\n",
        "\n",
        "    outputs = forward_propagation(X, parameters)\n",
        "    A3 = outputs[-1]\n",
        "\n",
        "    if weight_decay_lambda == 0.:\n",
        "        loss = cross_entropy_loss(Y, A3)\n",
        "        dW1, dW2, dW3 = backward_propagation(X, Y, parameters, outputs)\n",
        "    else:\n",
        "        loss = cross_entropy_loss(Y, A3) + weight_decay_loss(parameters, weight_decay_lambda)\n",
        "        dW1, dW2, dW3 = backward_propagation_with_weight_decay(X, Y, parameters, outputs, weight_decay_lambda)\n",
        "\n",
        "    V_dW1, V_dW2, V_dW3 = velocity\n",
        "\n",
        "    V_dW1 = beta * V_dW1 + (1 - beta) * dW1\n",
        "    V_dW2 = beta * V_dW2 + (1 - beta) * dW2\n",
        "    V_dW3 = beta * V_dW3 + (1 - beta) * dW3\n",
        "\n",
        "    W1 = W1 - learning_rate * V_dW1\n",
        "    W2 = W2 - learning_rate * V_dW2\n",
        "    W3 = W3 - learning_rate * V_dW3\n",
        "\n",
        "    parameters = W1, W2, W3\n",
        "    velocity = V_dW1, V_dW2, V_dW3\n",
        "\n",
        "    return loss, parameters, velocity"
      ]
    },
    {
      "cell_type": "markdown",
      "metadata": {
        "id": "hf3fuNyfQKGA"
      },
      "source": [
        "Function to train the neural network over epochs."
      ]
    },
    {
      "cell_type": "code",
      "execution_count": 20,
      "metadata": {
        "id": "4W6M4TxmnA5d",
        "scrolled": true
      },
      "outputs": [],
      "source": [
        "def training_model(parameters, velocity, batch_size, epoch, learning_rate, beta, weight_decay_lambda=0.):\n",
        "\n",
        "    num_batches = num_trains // batch_size\n",
        "    print('Start training the model:')\n",
        "    print('Number of training samples: {}'.format(num_trains))\n",
        "    print('Number of batchs: {}'.format(num_batches))\n",
        "\n",
        "    loss_log = []\n",
        "\n",
        "    for i in range(epoch):\n",
        "        start_t = time.time()\n",
        "\n",
        "        indices = np.random.permutation(num_trains)\n",
        "        X_train_shuffled, Y_train_shuffled = X_train[:, indices], Y_train[:, indices]\n",
        "\n",
        "        for j in range(num_batches):\n",
        "\n",
        "            start_idx, end_idx = j * batch_size, min(j * batch_size + batch_size, X_train.shape[1] - 1)\n",
        "            X, Y = X_train_shuffled[:, start_idx : end_idx], Y_train_shuffled[:, start_idx : end_idx]\n",
        "\n",
        "            loss, parameters, velocity = training_step(X, Y, parameters, velocity, learning_rate, beta, weight_decay_lambda)\n",
        "\n",
        "            loss_log.append(loss)\n",
        "            if (j > 0 and j % 200 == 0):\n",
        "                print(\"[Epoch][Iterations]:[{}/{}][{}/{}], loss: {}\".format(i, epoch, j, num_batches, loss))\n",
        "\n",
        "        print(\"=> Epoch {}, elapsed time: {:.2f} seconds\".format(i, time.time() - start_t))\n",
        "\n",
        "    plt.title('Training loss:')\n",
        "    plt.plot(loss_log)\n",
        "    plt.show()\n",
        "\n",
        "    return parameters"
      ]
    },
    {
      "cell_type": "markdown",
      "metadata": {
        "id": "PQMYaTGZQruI"
      },
      "source": [
        "Initializing and training the model with default settings."
      ]
    },
    {
      "cell_type": "code",
      "execution_count": 21,
      "metadata": {
        "id": "uiMGAdhvnA5d",
        "scrolled": false
      },
      "outputs": [
        {
          "name": "stdout",
          "output_type": "stream",
          "text": [
            "Start training the model:\n",
            "Number of training samples: 60000\n",
            "Number of batchs: 468\n",
            "[Epoch][Iterations]:[0/30][200/468], loss: 1.3539317078847701\n",
            "[Epoch][Iterations]:[0/30][400/468], loss: 1.1611606072419878\n",
            "=> Epoch 0, elapsed time: 4.96 seconds\n",
            "[Epoch][Iterations]:[1/30][200/468], loss: 1.1555913741849602\n",
            "[Epoch][Iterations]:[1/30][400/468], loss: 0.9523556786404768\n",
            "=> Epoch 1, elapsed time: 3.50 seconds\n",
            "[Epoch][Iterations]:[2/30][200/468], loss: 0.9677024114710594\n",
            "[Epoch][Iterations]:[2/30][400/468], loss: 0.9293388248532337\n",
            "=> Epoch 2, elapsed time: 1.80 seconds\n",
            "[Epoch][Iterations]:[3/30][200/468], loss: 0.9230688992858795\n",
            "[Epoch][Iterations]:[3/30][400/468], loss: 0.9894624824971912\n",
            "=> Epoch 3, elapsed time: 2.10 seconds\n",
            "[Epoch][Iterations]:[4/30][200/468], loss: 0.8305793142557805\n",
            "[Epoch][Iterations]:[4/30][400/468], loss: 0.8990161692680599\n",
            "=> Epoch 4, elapsed time: 2.23 seconds\n",
            "[Epoch][Iterations]:[5/30][200/468], loss: 0.9943809350321016\n",
            "[Epoch][Iterations]:[5/30][400/468], loss: 0.9794497394473857\n",
            "=> Epoch 5, elapsed time: 2.29 seconds\n",
            "[Epoch][Iterations]:[6/30][200/468], loss: 1.00322579646001\n",
            "[Epoch][Iterations]:[6/30][400/468], loss: 0.8925592649526086\n",
            "=> Epoch 6, elapsed time: 1.92 seconds\n",
            "[Epoch][Iterations]:[7/30][200/468], loss: 0.8677000036518441\n",
            "[Epoch][Iterations]:[7/30][400/468], loss: 0.9467399904771857\n",
            "=> Epoch 7, elapsed time: 1.26 seconds\n",
            "[Epoch][Iterations]:[8/30][200/468], loss: 0.8027907447835796\n",
            "[Epoch][Iterations]:[8/30][400/468], loss: 0.8472936289171242\n",
            "=> Epoch 8, elapsed time: 1.98 seconds\n",
            "[Epoch][Iterations]:[9/30][200/468], loss: 1.1181147499366442\n",
            "[Epoch][Iterations]:[9/30][400/468], loss: 0.9720612546204422\n",
            "=> Epoch 9, elapsed time: 1.46 seconds\n",
            "[Epoch][Iterations]:[10/30][200/468], loss: 0.7662781200218258\n",
            "[Epoch][Iterations]:[10/30][400/468], loss: 0.8604915979598073\n",
            "=> Epoch 10, elapsed time: 1.57 seconds\n",
            "[Epoch][Iterations]:[11/30][200/468], loss: 0.8531865454872116\n",
            "[Epoch][Iterations]:[11/30][400/468], loss: 0.9023932272205062\n",
            "=> Epoch 11, elapsed time: 1.20 seconds\n",
            "[Epoch][Iterations]:[12/30][200/468], loss: 0.89738218251964\n",
            "[Epoch][Iterations]:[12/30][400/468], loss: 0.8637325355330645\n",
            "=> Epoch 12, elapsed time: 1.94 seconds\n",
            "[Epoch][Iterations]:[13/30][200/468], loss: 0.9415761515154493\n",
            "[Epoch][Iterations]:[13/30][400/468], loss: 0.693155688830261\n",
            "=> Epoch 13, elapsed time: 1.80 seconds\n",
            "[Epoch][Iterations]:[14/30][200/468], loss: 0.7569124855542421\n",
            "[Epoch][Iterations]:[14/30][400/468], loss: 0.7280393606340656\n",
            "=> Epoch 14, elapsed time: 1.90 seconds\n",
            "[Epoch][Iterations]:[15/30][200/468], loss: 0.7401283801152854\n",
            "[Epoch][Iterations]:[15/30][400/468], loss: 0.742058106068542\n",
            "=> Epoch 15, elapsed time: 1.70 seconds\n",
            "[Epoch][Iterations]:[16/30][200/468], loss: 0.7002766136125472\n",
            "[Epoch][Iterations]:[16/30][400/468], loss: 0.8157441262652483\n",
            "=> Epoch 16, elapsed time: 1.83 seconds\n",
            "[Epoch][Iterations]:[17/30][200/468], loss: 0.8980182769157941\n",
            "[Epoch][Iterations]:[17/30][400/468], loss: 0.733428641172436\n",
            "=> Epoch 17, elapsed time: 1.94 seconds\n",
            "[Epoch][Iterations]:[18/30][200/468], loss: 0.802794741041503\n",
            "[Epoch][Iterations]:[18/30][400/468], loss: 0.6206397150275245\n",
            "=> Epoch 18, elapsed time: 1.96 seconds\n",
            "[Epoch][Iterations]:[19/30][200/468], loss: 0.7990133292401072\n",
            "[Epoch][Iterations]:[19/30][400/468], loss: 0.6842266190100401\n",
            "=> Epoch 19, elapsed time: 1.65 seconds\n",
            "[Epoch][Iterations]:[20/30][200/468], loss: 0.8010660567195789\n",
            "[Epoch][Iterations]:[20/30][400/468], loss: 0.5973498981246472\n",
            "=> Epoch 20, elapsed time: 2.14 seconds\n",
            "[Epoch][Iterations]:[21/30][200/468], loss: 0.7857481213454431\n",
            "[Epoch][Iterations]:[21/30][400/468], loss: 0.7357522448274936\n",
            "=> Epoch 21, elapsed time: 2.71 seconds\n",
            "[Epoch][Iterations]:[22/30][200/468], loss: 0.7518808342797697\n",
            "[Epoch][Iterations]:[22/30][400/468], loss: 0.5866361575854033\n",
            "=> Epoch 22, elapsed time: 2.61 seconds\n",
            "[Epoch][Iterations]:[23/30][200/468], loss: 0.8281581388474395\n",
            "[Epoch][Iterations]:[23/30][400/468], loss: 0.5872894906398662\n",
            "=> Epoch 23, elapsed time: 2.04 seconds\n",
            "[Epoch][Iterations]:[24/30][200/468], loss: 0.6329989438931442\n",
            "[Epoch][Iterations]:[24/30][400/468], loss: 0.8129350731012837\n",
            "=> Epoch 24, elapsed time: 1.84 seconds\n",
            "[Epoch][Iterations]:[25/30][200/468], loss: 0.6807074448453001\n",
            "[Epoch][Iterations]:[25/30][400/468], loss: 0.6608377723124795\n",
            "=> Epoch 25, elapsed time: 1.65 seconds\n",
            "[Epoch][Iterations]:[26/30][200/468], loss: 0.7417145162727781\n",
            "[Epoch][Iterations]:[26/30][400/468], loss: 0.707984024459078\n",
            "=> Epoch 26, elapsed time: 1.44 seconds\n",
            "[Epoch][Iterations]:[27/30][200/468], loss: 0.6495684943073019\n",
            "[Epoch][Iterations]:[27/30][400/468], loss: 0.6738941556031887\n",
            "=> Epoch 27, elapsed time: 1.15 seconds\n",
            "[Epoch][Iterations]:[28/30][200/468], loss: 0.9015405256879073\n",
            "[Epoch][Iterations]:[28/30][400/468], loss: 0.5587869775946017\n",
            "=> Epoch 28, elapsed time: 1.24 seconds\n",
            "[Epoch][Iterations]:[29/30][200/468], loss: 0.7039940887175519\n",
            "[Epoch][Iterations]:[29/30][400/468], loss: 0.7875579016858223\n",
            "=> Epoch 29, elapsed time: 1.10 seconds\n"
          ]
        },
        {
          "data": {
            "image/png": "[encoded data removed]",
            "text/plain": [
              "<Figure size 640x480 with 1 Axes>"
            ]
          },
          "metadata": {},
          "output_type": "display_data"
        }
      ],
      "source": [
        "np.random.seed(1)\n",
        "\n",
        "parameters, velocity = init_parameters(\n",
        "    num_inputs = X_train.shape[0],\n",
        "    num_hidden_1 = 10,\n",
        "    num_hidden_2 = 6,\n",
        "    num_outputs = num_classes,\n",
        ")\n",
        "\n",
        "trained_parameters = training_model(\n",
        "    parameters,\n",
        "    velocity,\n",
        "    batch_size = 128,\n",
        "    epoch = 30,\n",
        "    learning_rate = 0.25,\n",
        "    beta = 0.5,\n",
        "    weight_decay_lambda = 0.,\n",
        ")"
      ]
    },
    {
      "cell_type": "markdown",
      "metadata": {
        "id": "ONG48w-ynA5d"
      },
      "source": [
        "### 3.2 Model Performance Evaluation"
      ]
    },
    {
      "cell_type": "markdown",
      "metadata": {
        "id": "OLgMhvfQRJDy"
      },
      "source": [
        "Implementing forward propagation for model evaluation on test data."
      ]
    },
    {
      "cell_type": "code",
      "execution_count": 22,
      "metadata": {
        "id": "OSJjyzQonA5e"
      },
      "outputs": [],
      "source": [
        "def testing_model(X, parameters):\n",
        "    A3 = forward_propagation(X, parameters)[-1]\n",
        "\n",
        "    predictions = np.argmax(A3, axis=0)\n",
        "    labels = np.argmax(Y_test, axis=0)\n",
        "\n",
        "    print(\"Confusion matrix:\\n{}\\n\".format(confusion_matrix(labels, predictions)))\n",
        "    print(\"Test accuracy: {}\".format(accuracy_score(labels, predictions)))"
      ]
    },
    {
      "cell_type": "markdown",
      "metadata": {
        "id": "9LgmEJCsRVHH"
      },
      "source": [
        "Evaluating model accuracy on the test set."
      ]
    },
    {
      "cell_type": "code",
      "execution_count": 23,
      "metadata": {
        "id": "rV91hnY_nA5e",
        "scrolled": false
      },
      "outputs": [
        {
          "name": "stdout",
          "output_type": "stream",
          "text": [
            "Confusion matrix:\n",
            "[[888   5  20  55   3   0   3   0  26   0]\n",
            " [  3 916  14  56   8   0   0   0   3   0]\n",
            " [ 34   2 868   9  45   1   3   0  38   0]\n",
            " [ 88   7  19 794  65   0   2   0  25   0]\n",
            " [  3   2 730  20 204   0   3   0  38   0]\n",
            " [  0   0   0   1   4 836   0  72  11  76]\n",
            " [316   3 559  43  29   0   6   0  44   0]\n",
            " [  0   0   0   0   0  69   0 882   0  49]\n",
            " [  5   0  13   9   5   2   1   5 959   1]\n",
            " [  0   0   0   0   3  41   0  47   1 908]]\n",
            "\n",
            "Test accuracy: 0.7261\n"
          ]
        }
      ],
      "source": [
        "testing_model(X_test, trained_parameters)"
      ]
    },
    {
      "cell_type": "markdown",
      "metadata": {
        "id": "sAnEtMn4Ybdi"
      },
      "source": [
        "Expected test accuracy around 0.70 with default parameters."
      ]
    },
    {
      "cell_type": "markdown",
      "metadata": {
        "id": "B1kOSmvRnA5e"
      },
      "source": [
        "## Stage 4: Regularization and Hyperparameter Tuning"
      ]
    },
    {
      "cell_type": "markdown",
      "metadata": {
        "id": "hn_l95QgnA5e"
      },
      "source": [
        "### 4.1 Implementing Weight Decay for Regularization"
      ]
    },
    {
      "cell_type": "markdown",
      "metadata": {
        "id": "jsfGvujunA5e"
      },
      "source": [
        "Regularization techniques, like weight decay, prevent overfitting by penalizing model complexity, promoting better generalization."
      ]
    },
    {
      "cell_type": "markdown",
      "metadata": {
        "id": "OE3xlY-KnA5e"
      },
      "source": [
        "Weight decay (L2 regularization) modifies the loss function:\n",
        "\n",
        "$$\n",
        "\\begin{align}\n",
        "L &= L_1 + L_2 \\tag{30} \\\\\n",
        "\\\\\n",
        "L_1 &= {\\rm cross\\_entropy}(Y, A_3) \\tag{31} \\\\\n",
        "L_2 &= \\frac{\\lambda}{2} \\left( ||W_1||_2^2 + ||W_2||_2^2 + ||W_3||_2^2 \\right) \\tag{32}\n",
        "\\end{align}\n",
        "$$\n",
        "$L_2$: weight decay loss, $||\\cdot||_2^2$: L2 norm."
      ]
    },
    {
      "cell_type": "markdown",
      "metadata": {
        "id": "mZrlRY1JR8Pi"
      },
      "source": [
        "Implementing weight decay loss function."
      ]
    },
    {
      "cell_type": "code",
      "execution_count": 24,
      "metadata": {
        "id": "L2kmwhrYnA5e"
      },
      "outputs": [],
      "source": [
        "def weight_decay_loss(parameters, lambd):\n",
        "    \"\"\"\n",
        "    Args:\n",
        "        parameters (tuple): Model parameters: W1, W2, W3\n",
        "        lambd (float): Weight decay coefficient\n",
        "    \"\"\"\n",
        "    W1, W2, W3 = parameters\n",
        "\n",
        "    return (lambd / 2) * (np.sum(np.power(W1, 2)) + np.sum(np.power(W2, 2)) + np.sum(np.power(W3, 2)))"
      ]
    },
    {
      "cell_type": "markdown",
      "metadata": {
        "id": "uHMb6P89ScYO"
      },
      "source": [
        "Verifying weight decay loss output."
      ]
    },
    {
      "cell_type": "code",
      "execution_count": 25,
      "metadata": {
        "id": "CsfU7zfMnA5e"
      },
      "outputs": [
        {
          "name": "stdout",
          "output_type": "stream",
          "text": [
            "loss: 0.3972738208879281\n"
          ]
        }
      ],
      "source": [
        "np.random.seed(1)\n",
        "parameters, _ = init_parameters(num_inputs, num_hidden_1, num_hidden_2, num_outputs)\n",
        "\n",
        "loss = weight_decay_loss(parameters, lambd=0.0001)\n",
        "print('loss:', loss)"
      ]
    },
    {
      "cell_type": "markdown",
      "metadata": {
        "id": "VG9cclqznA5e"
      },
      "source": [
        "Weight decay loss output example: 0.3972738208879281."
      ]
    },
    {
      "cell_type": "markdown",
      "metadata": {
        "id": "7yXVoaBinA5e"
      },
      "source": [
        "Updated backward propagation for weight decay, modifying derivatives."
      ]
    },
    {
      "cell_type": "markdown",
      "metadata": {
        "id": "mVarg1j0S3WD"
      },
      "source": [
        "Backward propagation function with weight decay."
      ]
    },
    {
      "cell_type": "code",
      "execution_count": 26,
      "metadata": {
        "id": "2R_nzvD5nA5e"
      },
      "outputs": [],
      "source": [
        "def backward_propagation_with_weight_decay(X, Y, parameters, outputs, lambd):\n",
        "    \"\"\"Backward propagation with weight decay.\n",
        "    Args:\n",
        "        X (np.array): Input data\n",
        "        Y (np.array): True labels\n",
        "        parameters (tuple): Model parameters: W1, W2, W3\n",
        "        outputs (tuple): Cached forward propagation outputs\n",
        "        lambd (float): Weight decay coefficient\n",
        "\n",
        "    Returns:\n",
        "        tuple: Gradients: dW1, dW2, dW3\n",
        "    \"\"\"\n",
        "\n",
        "    W1, W2, W3 = parameters\n",
        "    dW1, dW2, dW3 = backward_propagation(X, Y, parameters, outputs)\n",
        "\n",
        "    dW1_new = dW1 + lambd * W1\n",
        "    dW2_new = dW2 + lambd * W2\n",
        "    dW3_new = dW3 + lambd * W3\n",
        "\n",
        "    return dW1_new, dW2_new, dW3_new"
      ]
    },
    {
      "cell_type": "markdown",
      "metadata": {
        "id": "Xx3UgK9LT5ft"
      },
      "source": [
        "Verifying backward propagation with weight decay output."
      ]
    },
    {
      "cell_type": "code",
      "execution_count": 27,
      "metadata": {
        "id": "lBekxUNKnA5f",
        "scrolled": true
      },
      "outputs": [
        {
          "name": "stdout",
          "output_type": "stream",
          "text": [
            "\n",
            "Example results in dW3 (new):\n",
            "[4.99417602 4.81002709 4.51013425 4.99769988 4.93467474 4.99422092\n",
            " 4.81371188 4.98254415 4.99662634 4.96574142]\n",
            "\n",
            "Example results in dW2 (new):\n",
            "[ 1.78778996e-04  1.80471533e-05  5.78735665e-05 -7.65603509e-05\n",
            "  3.89918617e-05  5.60040836e-06]\n",
            "\n",
            "Example results in dW1 (new):\n",
            "[ 5.51204348e-05  1.89067615e-05 -1.87286483e-05 -2.72250057e-05\n",
            "  2.10901799e-04  1.05074359e-04 -3.10534150e-05  4.55281440e-05\n",
            "  7.14239094e-05  1.88094599e-04]\n"
          ]
        }
      ],
      "source": [
        "np.random.seed(1)\n",
        "X = np.random.randn(num_inputs, 2)\n",
        "Y = np.random.randint(1, num_classes, (2, ))\n",
        "\n",
        "parameters, _ = init_parameters(num_inputs, num_hidden_1, num_hidden_2, num_outputs)\n",
        "outputs = forward_propagation(X, parameters)\n",
        "dW1_new, dW2_new, dW3_new = backward_propagation_with_weight_decay(X, Y, parameters, outputs, lambd=0.0001)\n",
        "\n",
        "print('\\nExample results in dW3 (new):')\n",
        "print(dW3_new[:, 0])\n",
        "\n",
        "print('\\nExample results in dW2 (new):')\n",
        "print(dW2_new[:, 0])\n",
        "\n",
        "print('\\nExample results in dW1 (new):')\n",
        "print(dW1_new[:, 0])"
      ]
    },
    {
      "cell_type": "markdown",
      "metadata": {
        "id": "xwi7D1-2nA5f"
      },
      "source": [
        "Output Examples with Weight Decay:\n",
        "dW3 (new): [4.99417602, 4.81002709, 4.51013425, 4.99769988, 4.93467474, 4.99422092, 4.81371188, 4.98254415, 4.99662634, 4.96574142]\n",
        "dW2 (new): [1.78778996e-04, 1.80471533e-05, 5.78735665e-05, -7.65603509e-05, 3.89918617e-05, 5.60040836e-06]\n",
        "dW1 (new): [5.51204348e-05, 1.89067615e-05, -1.87286483e-05, -2.72250057e-05, 2.10901799e-04, 1.05074359e-04, -3.10534150e-05, 4.55281440e-05, 7.14239094e-05, 1.88094599e-04]"
      ]
    },
    {
      "cell_type": "markdown",
      "metadata": {
        "id": "FTtoVhwxnA5f"
      },
      "source": [
        "### 4.2 Hyperparameter Tuning"
      ]
    },
    {
      "cell_type": "markdown",
      "metadata": {
        "id": "HW7txgbcnA5f"
      },
      "source": [
        "Hyperparameter tuning optimizes model performance by adjusting settings like learning rate, batch size, regularization strength, and network architecture."
      ]
    },
    {
      "cell_type": "markdown",
      "metadata": {
        "id": "_9mtu6pwUcDo"
      },
      "source": [
        "Experiment with hyperparameters to enhance network accuracy beyond 0.80."
      ]
    },
    {
      "cell_type": "code",
      "execution_count": 28,
      "metadata": {
        "id": "smNNZCL6nA5f",
        "scrolled": true
      },
      "outputs": [
        {
          "name": "stdout",
          "output_type": "stream",
          "text": [
            "Start training the model:\n",
            "Number of training samples: 60000\n",
            "Number of batchs: 468\n",
            "[Epoch][Iterations]:[0/30][200/468], loss: 5.130965981045569\n",
            "[Epoch][Iterations]:[0/30][400/468], loss: 4.913920839295915\n",
            "=> Epoch 0, elapsed time: 2.02 seconds\n",
            "[Epoch][Iterations]:[1/30][200/468], loss: 4.211148127794477\n",
            "[Epoch][Iterations]:[1/30][400/468], loss: 3.9773536929653592\n",
            "=> Epoch 1, elapsed time: 1.87 seconds\n",
            "[Epoch][Iterations]:[2/30][200/468], loss: 3.5539465854030388\n",
            "[Epoch][Iterations]:[2/30][400/468], loss: 3.3318490930023668\n",
            "=> Epoch 2, elapsed time: 1.61 seconds\n",
            "[Epoch][Iterations]:[3/30][200/468], loss: 2.989872582716207\n",
            "[Epoch][Iterations]:[3/30][400/468], loss: 2.7486025811802195\n",
            "=> Epoch 3, elapsed time: 1.61 seconds\n",
            "[Epoch][Iterations]:[4/30][200/468], loss: 2.373340420460183\n",
            "[Epoch][Iterations]:[4/30][400/468], loss: 2.12202708424217\n",
            "=> Epoch 4, elapsed time: 1.81 seconds\n",
            "[Epoch][Iterations]:[5/30][200/468], loss: 1.9824726444329885\n",
            "[Epoch][Iterations]:[5/30][400/468], loss: 1.8073839277041261\n",
            "=> Epoch 5, elapsed time: 2.01 seconds\n",
            "[Epoch][Iterations]:[6/30][200/468], loss: 1.7599772971886039\n",
            "[Epoch][Iterations]:[6/30][400/468], loss: 1.565219371830741\n",
            "=> Epoch 6, elapsed time: 1.62 seconds\n",
            "[Epoch][Iterations]:[7/30][200/468], loss: 1.4070057975136203\n",
            "[Epoch][Iterations]:[7/30][400/468], loss: 1.257906552962473\n",
            "=> Epoch 7, elapsed time: 1.61 seconds\n",
            "[Epoch][Iterations]:[8/30][200/468], loss: 1.2319187828982137\n",
            "[Epoch][Iterations]:[8/30][400/468], loss: 1.19380322386613\n",
            "=> Epoch 8, elapsed time: 1.63 seconds\n",
            "[Epoch][Iterations]:[9/30][200/468], loss: 1.1430205171225327\n",
            "[Epoch][Iterations]:[9/30][400/468], loss: 0.9274858164022729\n",
            "=> Epoch 9, elapsed time: 1.95 seconds\n",
            "[Epoch][Iterations]:[10/30][200/468], loss: 0.9648020114746227\n",
            "[Epoch][Iterations]:[10/30][400/468], loss: 0.9467869928006605\n",
            "=> Epoch 10, elapsed time: 1.63 seconds\n",
            "[Epoch][Iterations]:[11/30][200/468], loss: 0.9346457132906187\n",
            "[Epoch][Iterations]:[11/30][400/468], loss: 0.8724769127177011\n",
            "=> Epoch 11, elapsed time: 2.08 seconds\n",
            "[Epoch][Iterations]:[12/30][200/468], loss: 0.8177532754378768\n",
            "[Epoch][Iterations]:[12/30][400/468], loss: 0.6867591416481594\n",
            "=> Epoch 12, elapsed time: 1.62 seconds\n",
            "[Epoch][Iterations]:[13/30][200/468], loss: 0.8333310408084551\n",
            "[Epoch][Iterations]:[13/30][400/468], loss: 0.7612591237189328\n",
            "=> Epoch 13, elapsed time: 1.57 seconds\n",
            "[Epoch][Iterations]:[14/30][200/468], loss: 0.5875425404279957\n",
            "[Epoch][Iterations]:[14/30][400/468], loss: 0.6668921194877263\n",
            "=> Epoch 14, elapsed time: 1.71 seconds\n",
            "[Epoch][Iterations]:[15/30][200/468], loss: 0.5672741922564271\n",
            "[Epoch][Iterations]:[15/30][400/468], loss: 0.6214980378350665\n",
            "=> Epoch 15, elapsed time: 1.57 seconds\n",
            "[Epoch][Iterations]:[16/30][200/468], loss: 0.5365492989489671\n",
            "[Epoch][Iterations]:[16/30][400/468], loss: 0.6887322087124162\n",
            "=> Epoch 16, elapsed time: 1.60 seconds\n",
            "[Epoch][Iterations]:[17/30][200/468], loss: 0.6141804507004069\n",
            "[Epoch][Iterations]:[17/30][400/468], loss: 0.6755871789647845\n",
            "=> Epoch 17, elapsed time: 1.96 seconds\n",
            "[Epoch][Iterations]:[18/30][200/468], loss: 0.6745990519134138\n",
            "[Epoch][Iterations]:[18/30][400/468], loss: 0.5596357112224506\n",
            "=> Epoch 18, elapsed time: 1.97 seconds\n",
            "[Epoch][Iterations]:[19/30][200/468], loss: 0.6407025219105519\n",
            "[Epoch][Iterations]:[19/30][400/468], loss: 0.48575856467596706\n",
            "=> Epoch 19, elapsed time: 2.09 seconds\n",
            "[Epoch][Iterations]:[20/30][200/468], loss: 0.5902187538651618\n",
            "[Epoch][Iterations]:[20/30][400/468], loss: 0.639927016573735\n",
            "=> Epoch 20, elapsed time: 1.71 seconds\n",
            "[Epoch][Iterations]:[21/30][200/468], loss: 0.4730093649453414\n",
            "[Epoch][Iterations]:[21/30][400/468], loss: 0.5621234555603167\n",
            "=> Epoch 21, elapsed time: 1.76 seconds\n",
            "[Epoch][Iterations]:[22/30][200/468], loss: 0.5684274043427272\n",
            "[Epoch][Iterations]:[22/30][400/468], loss: 0.4581859498724011\n",
            "=> Epoch 22, elapsed time: 1.86 seconds\n",
            "[Epoch][Iterations]:[23/30][200/468], loss: 0.4821432283076918\n",
            "[Epoch][Iterations]:[23/30][400/468], loss: 0.5061536164969669\n",
            "=> Epoch 23, elapsed time: 1.54 seconds\n",
            "[Epoch][Iterations]:[24/30][200/468], loss: 0.5844239596448165\n",
            "[Epoch][Iterations]:[24/30][400/468], loss: 0.6793960968877493\n",
            "=> Epoch 24, elapsed time: 1.50 seconds\n",
            "[Epoch][Iterations]:[25/30][200/468], loss: 0.5234679859680349\n",
            "[Epoch][Iterations]:[25/30][400/468], loss: 0.606700659612792\n",
            "=> Epoch 25, elapsed time: 1.57 seconds\n",
            "[Epoch][Iterations]:[26/30][200/468], loss: 0.6144656121328478\n",
            "[Epoch][Iterations]:[26/30][400/468], loss: 0.5920686977763556\n",
            "=> Epoch 26, elapsed time: 1.48 seconds\n",
            "[Epoch][Iterations]:[27/30][200/468], loss: 0.5990409939746184\n",
            "[Epoch][Iterations]:[27/30][400/468], loss: 0.5764797665830154\n",
            "=> Epoch 27, elapsed time: 1.76 seconds\n",
            "[Epoch][Iterations]:[28/30][200/468], loss: 0.47438833060638175\n",
            "[Epoch][Iterations]:[28/30][400/468], loss: 0.6849556085237285\n",
            "=> Epoch 28, elapsed time: 1.77 seconds\n",
            "[Epoch][Iterations]:[29/30][200/468], loss: 0.5314916682968397\n",
            "[Epoch][Iterations]:[29/30][400/468], loss: 0.6124831830069971\n",
            "=> Epoch 29, elapsed time: 1.58 seconds\n"
          ]
        },
        {
          "data": {
            "image/png": "[encoded data removed]",
            "text/plain": [
              "<Figure size 640x480 with 1 Axes>"
            ]
          },
          "metadata": {},
          "output_type": "display_data"
        }
      ],
      "source": [
        "parameters, velocity = init_parameters(\n",
        "    num_inputs = X_train.shape[0],\n",
        "    num_hidden_1 = 10,\n",
        "    num_hidden_2 = 6,\n",
        "    num_outputs=num_classes\n",
        ")\n",
        "\n",
        "trained_parameters = training_model(\n",
        "    parameters,\n",
        "    velocity,\n",
        "    batch_size = 128,\n",
        "    epoch = 30,\n",
        "    learning_rate = 0.25,\n",
        "    beta = 0.5,\n",
        "    weight_decay_lambda = 0.001,\n",
        ")"
      ]
    },
    {
      "cell_type": "code",
      "execution_count": 29,
      "metadata": {
        "id": "gizmQn3knA5f"
      },
      "outputs": [
        {
          "name": "stdout",
          "output_type": "stream",
          "text": [
            "Confusion matrix:\n",
            "[[839   0  21  31   2   0  88   0  19   0]\n",
            " [  8 940   4  36   7   0   3   0   2   0]\n",
            " [ 17   1 676   9 203   0  86   0   8   0]\n",
            " [ 49   3  14 859  40   0  32   0   3   0]\n",
            " [  0   0  58  28 815   0  93   0   6   0]\n",
            " [  1   0   0   1   1 876   0  50  28  43]\n",
            " [201   0 101  26  91   0 553   0  28   0]\n",
            " [  0   0   0   0   0  16   0 972   0  12]\n",
            " [  0   0   5   7   7   2  14   4 961   0]\n",
            " [  0   0   0   0   0  16   0  74   3 907]]\n",
            "\n",
            "Test accuracy: 0.8398\n"
          ]
        }
      ],
      "source": [
        "testing_model(X_test, trained_parameters)"
      ]
    },
    {
      "cell_type": "markdown",
      "metadata": {
        "id": "X_yc31MTnA5f"
      },
      "source": [
        "Expected test accuracy: 0.80 or higher with optimized hyperparameters."
      ]
    }
  ],
  "metadata": {
    "colab": {
      "provenance": []
    },
    "kernelspec": {
      "display_name": "Python 3",
      "language": "python",
      "name": "python3"
    },
    "language_info": {
      "codemirror_mode": {
        "name": "ipython",
        "version": 3
      },
      "file_extension": ".py",
      "mimetype": "text/x-python",
      "name": "python",
      "nbconvert_exporter": "python",
      "pygments_lexer": "ipython3",
      "version": "3.12.9"
    }
  },
  "nbformat": 4,
  "nbformat_minor": 0
}
